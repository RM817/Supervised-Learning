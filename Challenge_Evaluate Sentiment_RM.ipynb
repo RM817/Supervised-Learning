{
 "cells": [
  {
   "cell_type": "code",
   "execution_count": 16,
   "metadata": {},
   "outputs": [],
   "source": [
    "%matplotlib inline\n",
    "import numpy as np\n",
    "import pandas as pd\n",
    "import scipy\n",
    "import sklearn\n",
    "import matplotlib.pyplot as plt\n",
    "import seaborn as sns\n",
    "from sklearn.naive_bayes import BernoulliNB\n",
    "from sklearn.metrics import confusion_matrix\n",
    "import math\n",
    "import statistics \n",
    "from sklearn.model_selection import cross_val_score"
   ]
  },
  {
   "cell_type": "markdown",
   "metadata": {},
   "source": [
    "# Version 1"
   ]
  },
  {
   "cell_type": "code",
   "execution_count": 17,
   "metadata": {},
   "outputs": [
    {
     "data": {
      "text/html": [
       "<div>\n",
       "<style scoped>\n",
       "    .dataframe tbody tr th:only-of-type {\n",
       "        vertical-align: middle;\n",
       "    }\n",
       "\n",
       "    .dataframe tbody tr th {\n",
       "        vertical-align: top;\n",
       "    }\n",
       "\n",
       "    .dataframe thead th {\n",
       "        text-align: right;\n",
       "    }\n",
       "</style>\n",
       "<table border=\"1\" class=\"dataframe\">\n",
       "  <thead>\n",
       "    <tr style=\"text-align: right;\">\n",
       "      <th></th>\n",
       "      <th>Comment</th>\n",
       "      <th>Positive Score</th>\n",
       "    </tr>\n",
       "  </thead>\n",
       "  <tbody>\n",
       "    <tr>\n",
       "      <th>0</th>\n",
       "      <td>So there is no way for me to plug it in here i...</td>\n",
       "      <td>0</td>\n",
       "    </tr>\n",
       "    <tr>\n",
       "      <th>1</th>\n",
       "      <td>Good case, Excellent value.</td>\n",
       "      <td>1</td>\n",
       "    </tr>\n",
       "    <tr>\n",
       "      <th>2</th>\n",
       "      <td>Great for the jawbone.</td>\n",
       "      <td>1</td>\n",
       "    </tr>\n",
       "    <tr>\n",
       "      <th>3</th>\n",
       "      <td>Tied to charger for conversations lasting more...</td>\n",
       "      <td>0</td>\n",
       "    </tr>\n",
       "    <tr>\n",
       "      <th>4</th>\n",
       "      <td>The mic is great.</td>\n",
       "      <td>1</td>\n",
       "    </tr>\n",
       "  </tbody>\n",
       "</table>\n",
       "</div>"
      ],
      "text/plain": [
       "                                             Comment  Positive Score\n",
       "0  So there is no way for me to plug it in here i...               0\n",
       "1                        Good case, Excellent value.               1\n",
       "2                             Great for the jawbone.               1\n",
       "3  Tied to charger for conversations lasting more...               0\n",
       "4                                  The mic is great.               1"
      ]
     },
     "execution_count": 17,
     "metadata": {},
     "output_type": "execute_result"
    }
   ],
   "source": [
    "data = pd.read_csv(\"amazon_cells_labelled.txt\",delimiter=\"\\t\",names = ['Comment','Positive Score'])\n",
    "data.head()"
   ]
  },
  {
   "cell_type": "code",
   "execution_count": 18,
   "metadata": {},
   "outputs": [
    {
     "data": {
      "image/png": "[encoded data removed]",
      "text/plain": [
       "<Figure size 432x288 with 2 Axes>"
      ]
     },
     "metadata": {
      "needs_background": "light"
     },
     "output_type": "display_data"
    }
   ],
   "source": [
    "data = pd.read_csv(\"amazon_cells_labelled.txt\",delimiter=\"\\t\",names = ['Comment','Positive Score'])\n",
    "keywords = ['good', 'great', 'excellent', 'fine', 'works', 'best', 'satisfied', 'highly', 'recommend','quality','nice', 'must have', 'again', 'easy', 'love', 'like','loved']\n",
    "\n",
    "for key in keywords:\n",
    "    data[str(key)] = data.Comment.str.contains(\n",
    "        ' ' + str(key) + ' ',\n",
    "        case=False\n",
    "    )\n",
    "data['allcaps'] = data.Comment.str.isupper()\n",
    "data['Positive Score'] = (data['Positive Score'] == 1)\n",
    "\n",
    "sns.heatmap(data.corr())\n",
    "plt.show()"
   ]
  },
  {
   "cell_type": "code",
   "execution_count": 19,
   "metadata": {},
   "outputs": [
    {
     "name": "stdout",
     "output_type": "stream",
     "text": [
      "Number of mislabeled points out of a total 1000 points : 347\n"
     ]
    }
   ],
   "source": [
    "dataset = data[keywords + ['allcaps']]\n",
    "target = data['Positive Score']\n",
    "\n",
    "bnb = BernoulliNB()\n",
    "bnb.fit(dataset, target)\n",
    "y_pred = bnb.predict(dataset)\n",
    "print(\"Number of mislabeled points out of a total {} points : {}\".format(\n",
    "    dataset.shape[0],\n",
    "    (target != y_pred).sum()\n",
    "))"
   ]
  },
  {
   "cell_type": "code",
   "execution_count": 20,
   "metadata": {},
   "outputs": [
    {
     "data": {
      "text/plain": [
       "0.653"
      ]
     },
     "execution_count": 20,
     "metadata": {},
     "output_type": "execute_result"
    }
   ],
   "source": [
    "(target == y_pred).sum() / dataset.shape[0]"
   ]
  },
  {
   "cell_type": "code",
   "execution_count": 21,
   "metadata": {},
   "outputs": [
    {
     "data": {
      "text/plain": [
       "array([[456,  44],\n",
       "       [303, 197]], dtype=int64)"
      ]
     },
     "execution_count": 21,
     "metadata": {},
     "output_type": "execute_result"
    }
   ],
   "source": [
    "confusion_matrix(target, y_pred)"
   ]
  },
  {
   "cell_type": "code",
   "execution_count": 22,
   "metadata": {},
   "outputs": [
    {
     "data": {
      "text/plain": [
       "True     500\n",
       "False    500\n",
       "Name: Positive Score, dtype: int64"
      ]
     },
     "execution_count": 22,
     "metadata": {},
     "output_type": "execute_result"
    }
   ],
   "source": [
    "data.iloc[:,1].value_counts()"
   ]
  },
  {
   "cell_type": "markdown",
   "metadata": {},
   "source": [
    "Here we see our data is perfectly balanced."
   ]
  },
  {
   "cell_type": "code",
   "execution_count": 26,
   "metadata": {},
   "outputs": [
    {
     "data": {
      "text/plain": [
       "array([0.7 , 0.66, 0.65, 0.65, 0.66, 0.6 , 0.68, 0.64, 0.65, 0.62])"
      ]
     },
     "execution_count": 26,
     "metadata": {},
     "output_type": "execute_result"
    }
   ],
   "source": [
    "cross_val_score(bnb, dataset, target, cv=10)"
   ]
  },
  {
   "cell_type": "markdown",
   "metadata": {},
   "source": [
    "We see the cross validation scores slightly fluctuate. Our model may be overfitted a bit. "
   ]
  },
  {
   "cell_type": "markdown",
   "metadata": {},
   "source": [
    "# Version 2"
   ]
  },
  {
   "cell_type": "markdown",
   "metadata": {},
   "source": [
    "In the version, we will limit the number of features by discarding the poorly correlated items. This was due to our model looking a bit overfitted from the cross validation scores. "
   ]
  },
  {
   "cell_type": "code",
   "execution_count": 42,
   "metadata": {},
   "outputs": [
    {
     "data": {
      "image/png": "[encoded data removed]",
      "text/plain": [
       "<Figure size 432x288 with 2 Axes>"
      ]
     },
     "metadata": {
      "needs_background": "light"
     },
     "output_type": "display_data"
    }
   ],
   "source": [
    "data = pd.read_csv(\"amazon_cells_labelled.txt\",delimiter=\"\\t\",names = ['Comment','Positive Score'])\n",
    "keywords = ['good', 'great', 'works', 'best', 'recommend','nice', 'love', 'like']\n",
    "\n",
    "for key in keywords:\n",
    "    data[str(key)] = data.Comment.str.contains(\n",
    "        ' ' + str(key) + ' ',\n",
    "        case=False\n",
    "    )\n",
    "data['allcaps'] = data.Comment.str.isupper()\n",
    "data['Positive Score'] = (data['Positive Score'] == 1)\n",
    "\n",
    "sns.heatmap(data.corr())\n",
    "plt.show()"
   ]
  },
  {
   "cell_type": "code",
   "execution_count": 43,
   "metadata": {},
   "outputs": [
    {
     "name": "stdout",
     "output_type": "stream",
     "text": [
      "Number of mislabeled points out of a total 1000 points : 370\n"
     ]
    }
   ],
   "source": [
    "dataset = data[keywords + ['allcaps']]\n",
    "target = data['Positive Score']\n",
    "\n",
    "bnb = BernoulliNB()\n",
    "bnb.fit(dataset, target)\n",
    "y_pred = bnb.predict(dataset)\n",
    "print(\"Number of mislabeled points out of a total {} points : {}\".format(\n",
    "    dataset.shape[0],\n",
    "    (target != y_pred).sum()\n",
    "))"
   ]
  },
  {
   "cell_type": "code",
   "execution_count": 44,
   "metadata": {},
   "outputs": [
    {
     "data": {
      "text/plain": [
       "0.63"
      ]
     },
     "execution_count": 44,
     "metadata": {},
     "output_type": "execute_result"
    }
   ],
   "source": [
    "(target == y_pred).sum() / dataset.shape[0]"
   ]
  },
  {
   "cell_type": "code",
   "execution_count": 45,
   "metadata": {},
   "outputs": [
    {
     "data": {
      "text/plain": [
       "array([[471,  29],\n",
       "       [341, 159]], dtype=int64)"
      ]
     },
     "execution_count": 45,
     "metadata": {},
     "output_type": "execute_result"
    }
   ],
   "source": [
    "confusion_matrix(target, y_pred)"
   ]
  },
  {
   "cell_type": "code",
   "execution_count": 46,
   "metadata": {},
   "outputs": [
    {
     "data": {
      "text/plain": [
       "array([0.64, 0.66, 0.66, 0.64, 0.64, 0.59, 0.64, 0.6 , 0.65, 0.58])"
      ]
     },
     "execution_count": 46,
     "metadata": {},
     "output_type": "execute_result"
    }
   ],
   "source": [
    "cross_val_score(bnb, dataset, target, cv=10)"
   ]
  },
  {
   "cell_type": "markdown",
   "metadata": {},
   "source": [
    "# Version 3"
   ]
  },
  {
   "cell_type": "markdown",
   "metadata": {},
   "source": [
    "In this new version, we have reduced the number of feature significantly while only losing 2% accuracy. The cross validation scores fluctuate slightly less which means we reduced the amount of overfitting. While sitting at 63% is better than the 50% base chance prediction rate, we need to improve our features to increase this number."
   ]
  },
  {
   "cell_type": "code",
   "execution_count": 103,
   "metadata": {},
   "outputs": [
    {
     "data": {
      "image/png": "[encoded data removed]",
      "text/plain": [
       "<Figure size 432x288 with 2 Axes>"
      ]
     },
     "metadata": {
      "needs_background": "light"
     },
     "output_type": "display_data"
    }
   ],
   "source": [
    "data = pd.read_csv(\"amazon_cells_labelled.txt\",delimiter=\"\\t\",names = ['Comment','Positive Score'])\n",
    "keywords = ['good', 'great', 'works', 'best', 'recommend','nice', 'love', 'happy', 'well', 'very', 'happy']\n",
    "\n",
    "for key in keywords:\n",
    "    data[str(key)] = data.Comment.str.contains(\n",
    "        ' ' + str(key) + ' ',\n",
    "        case=False\n",
    "    )\n",
    "data['allcaps'] = data.Comment.str.isupper()\n",
    "data['Positive Score'] = (data['Positive Score'] == 1)\n",
    "\n",
    "sns.heatmap(data.corr())\n",
    "plt.show()"
   ]
  },
  {
   "cell_type": "code",
   "execution_count": 104,
   "metadata": {},
   "outputs": [
    {
     "name": "stdout",
     "output_type": "stream",
     "text": [
      "Number of mislabeled points out of a total 1000 points : 344\n"
     ]
    }
   ],
   "source": [
    "dataset = data[keywords + ['allcaps']]\n",
    "target = data['Positive Score']\n",
    "\n",
    "bnb = BernoulliNB()\n",
    "bnb.fit(dataset, target)\n",
    "y_pred = bnb.predict(dataset)\n",
    "print(\"Number of mislabeled points out of a total {} points : {}\".format(\n",
    "    dataset.shape[0],\n",
    "    (target != y_pred).sum()\n",
    "))"
   ]
  },
  {
   "cell_type": "code",
   "execution_count": 105,
   "metadata": {},
   "outputs": [
    {
     "data": {
      "text/plain": [
       "0.656"
      ]
     },
     "execution_count": 105,
     "metadata": {},
     "output_type": "execute_result"
    }
   ],
   "source": [
    "(target == y_pred).sum() / dataset.shape[0]"
   ]
  },
  {
   "cell_type": "code",
   "execution_count": 106,
   "metadata": {},
   "outputs": [
    {
     "data": {
      "text/plain": [
       "array([[456,  44],\n",
       "       [300, 200]], dtype=int64)"
      ]
     },
     "execution_count": 106,
     "metadata": {},
     "output_type": "execute_result"
    }
   ],
   "source": [
    "confusion_matrix(target, y_pred)"
   ]
  },
  {
   "cell_type": "code",
   "execution_count": 107,
   "metadata": {},
   "outputs": [
    {
     "data": {
      "text/plain": [
       "array([0.7 , 0.61, 0.71, 0.64, 0.68, 0.65, 0.65, 0.66, 0.67, 0.59])"
      ]
     },
     "execution_count": 107,
     "metadata": {},
     "output_type": "execute_result"
    }
   ],
   "source": [
    "cross_val_score(bnb, dataset, target, cv=10)"
   ]
  },
  {
   "cell_type": "markdown",
   "metadata": {},
   "source": [
    "While we have slightly increased the accuracy of the model by adding and removing certain features, it seems that we have also increased the overfitting. It seems that this specific model has reached its peak. Maybe it is best to try something new."
   ]
  },
  {
   "cell_type": "markdown",
   "metadata": {},
   "source": [
    "# Version 4"
   ]
  },
  {
   "cell_type": "markdown",
   "metadata": {},
   "source": [
    "In this version, instead of looking for positive comments, we will classify the negative ones."
   ]
  },
  {
   "cell_type": "code",
   "execution_count": 111,
   "metadata": {},
   "outputs": [
    {
     "data": {
      "image/png": "[encoded data removed]",
      "text/plain": [
       "<Figure size 432x288 with 2 Axes>"
      ]
     },
     "metadata": {
      "needs_background": "light"
     },
     "output_type": "display_data"
    }
   ],
   "source": [
    "data = pd.read_csv(\"amazon_cells_labelled.txt\",delimiter=\"\\t\",names = ['Comment','Negative Score'])\n",
    "keywords = ['not', 'bad', 'poor', 'low', \"don't\", \"can't\", 'disappointed', 'worst', 'terrible' ]\n",
    "\n",
    "for key in keywords:\n",
    "    data[str(key)] = data.Comment.str.contains(\n",
    "        ' ' + str(key) + ' ',\n",
    "        case=False\n",
    "    )\n",
    "data['allcaps'] = data.Comment.str.isupper()\n",
    "data['Negative Score'] = (data['Negative Score'] == 0)\n",
    "\n",
    "sns.heatmap(data.corr())\n",
    "plt.show()"
   ]
  },
  {
   "cell_type": "code",
   "execution_count": 112,
   "metadata": {},
   "outputs": [
    {
     "name": "stdout",
     "output_type": "stream",
     "text": [
      "Number of mislabeled points out of a total 1000 points : 402\n"
     ]
    }
   ],
   "source": [
    "dataset = data[keywords + ['allcaps']]\n",
    "target = data['Negative Score']\n",
    "\n",
    "bnb = BernoulliNB()\n",
    "bnb.fit(dataset, target)\n",
    "y_pred = bnb.predict(dataset)\n",
    "print(\"Number of mislabeled points out of a total {} points : {}\".format(\n",
    "    dataset.shape[0],\n",
    "    (target != y_pred).sum()\n",
    "))"
   ]
  },
  {
   "cell_type": "code",
   "execution_count": 113,
   "metadata": {},
   "outputs": [
    {
     "data": {
      "text/plain": [
       "0.598"
      ]
     },
     "execution_count": 113,
     "metadata": {},
     "output_type": "execute_result"
    }
   ],
   "source": [
    "(target == y_pred).sum() / dataset.shape[0]"
   ]
  },
  {
   "cell_type": "code",
   "execution_count": 114,
   "metadata": {},
   "outputs": [
    {
     "data": {
      "text/plain": [
       "array([[477,  23],\n",
       "       [379, 121]], dtype=int64)"
      ]
     },
     "execution_count": 114,
     "metadata": {},
     "output_type": "execute_result"
    }
   ],
   "source": [
    "confusion_matrix(target, y_pred)"
   ]
  },
  {
   "cell_type": "code",
   "execution_count": 115,
   "metadata": {},
   "outputs": [
    {
     "data": {
      "text/plain": [
       "array([0.58, 0.6 , 0.57, 0.63, 0.61, 0.53, 0.64, 0.58, 0.64, 0.57])"
      ]
     },
     "execution_count": 115,
     "metadata": {},
     "output_type": "execute_result"
    }
   ],
   "source": [
    "cross_val_score(bnb, dataset, target, cv=10)"
   ]
  },
  {
   "cell_type": "markdown",
   "metadata": {},
   "source": [
    "The first attempt at the negative model produced worse results. However, optimizing it may create a more powerful model."
   ]
  },
  {
   "cell_type": "markdown",
   "metadata": {},
   "source": [
    "# Version 5"
   ]
  },
  {
   "cell_type": "markdown",
   "metadata": {},
   "source": [
    "This model will include better and more optimized features than the original negative model."
   ]
  },
  {
   "cell_type": "code",
   "execution_count": 291,
   "metadata": {},
   "outputs": [
    {
     "data": {
      "image/png": "[encoded data removed]",
      "text/plain": [
       "<Figure size 432x288 with 2 Axes>"
      ]
     },
     "metadata": {
      "needs_background": "light"
     },
     "output_type": "display_data"
    }
   ],
   "source": [
    "data = pd.read_csv(\"amazon_cells_labelled.txt\",delimiter=\"\\t\",names = ['Comment','Negative Score'])\n",
    "keywords = ['not', 'bad', 'disappointed', 'worst', 'terrible', 'buy', 'broke', \"doesn't\", 'return', 'waste', 'piece' ]\n",
    "\n",
    "for key in keywords:\n",
    "    data[str(key)] = data.Comment.str.contains(\n",
    "        ' ' + str(key) + ' ',\n",
    "        case=False\n",
    "    )\n",
    "data['allcaps'] = data.Comment.str.isupper()\n",
    "data['Comment'] = data['Comment'].str.replace(r'[^\\w\\s]+', '')\n",
    "data['Negative Score'] = (data['Negative Score'] == 0)\n",
    "\n",
    "sns.heatmap(data.corr())\n",
    "plt.show()"
   ]
  },
  {
   "cell_type": "code",
   "execution_count": 292,
   "metadata": {},
   "outputs": [
    {
     "name": "stdout",
     "output_type": "stream",
     "text": [
      "Number of mislabeled points out of a total 1000 points : 370\n"
     ]
    }
   ],
   "source": [
    "dataset = data[keywords + ['allcaps']]\n",
    "target = data['Negative Score']\n",
    "\n",
    "bnb = BernoulliNB()\n",
    "bnb.fit(dataset, target)\n",
    "y_pred = bnb.predict(dataset)\n",
    "print(\"Number of mislabeled points out of a total {} points : {}\".format(\n",
    "    dataset.shape[0],\n",
    "    (target != y_pred).sum()\n",
    "))"
   ]
  },
  {
   "cell_type": "code",
   "execution_count": 293,
   "metadata": {},
   "outputs": [
    {
     "data": {
      "text/plain": [
       "0.63"
      ]
     },
     "execution_count": 293,
     "metadata": {},
     "output_type": "execute_result"
    }
   ],
   "source": [
    "(target == y_pred).sum() / dataset.shape[0]"
   ]
  },
  {
   "cell_type": "code",
   "execution_count": 294,
   "metadata": {},
   "outputs": [
    {
     "data": {
      "text/plain": [
       "array([[477,  23],\n",
       "       [347, 153]], dtype=int64)"
      ]
     },
     "execution_count": 294,
     "metadata": {},
     "output_type": "execute_result"
    }
   ],
   "source": [
    "confusion_matrix(target, y_pred)"
   ]
  },
  {
   "cell_type": "code",
   "execution_count": 295,
   "metadata": {},
   "outputs": [
    {
     "data": {
      "text/plain": [
       "array([0.64, 0.62, 0.63, 0.64, 0.63, 0.58, 0.68, 0.58, 0.67, 0.63])"
      ]
     },
     "execution_count": 295,
     "metadata": {},
     "output_type": "execute_result"
    }
   ],
   "source": [
    "cross_val_score(bnb, dataset, target, cv=10)"
   ]
  },
  {
   "cell_type": "markdown",
   "metadata": {},
   "source": [
    "It seems that the negative model is not quite as strong as the positive one. Even after optimization, it still falls behind the other model while still having the same amount of overfitting. "
   ]
  },
  {
   "cell_type": "code",
   "execution_count": null,
   "metadata": {},
   "outputs": [],
   "source": []
  }
 ],
 "metadata": {
  "kernelspec": {
   "display_name": "Python 3",
   "language": "python",
   "name": "python3"
  },
  "language_info": {
   "codemirror_mode": {
    "name": "ipython",
    "version": 3
   },
   "file_extension": ".py",
   "mimetype": "text/x-python",
   "name": "python",
   "nbconvert_exporter": "python",
   "pygments_lexer": "ipython3",
   "version": "3.7.3"
  }
 },
 "nbformat": 4,
 "nbformat_minor": 2
}
